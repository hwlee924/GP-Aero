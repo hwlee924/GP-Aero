{
 "cells": [
  {
   "cell_type": "code",
   "execution_count": 1,
   "metadata": {},
   "outputs": [],
   "source": [
    "import math\n",
    "import tqdm\n",
    "import numpy as np\n",
    "import torch\n",
    "import gpytorch\n",
    "from matplotlib import pyplot as plt\n",
    "from sklearn.model_selection import train_test_split "
   ]
  },
  {
   "cell_type": "code",
   "execution_count": 2,
   "metadata": {},
   "outputs": [],
   "source": [
    "import os\n",
    "from scipy.io import loadmat\n",
    "from math import floor\n",
    "import pandas as pd\n",
    "os.environ[\"CUDA_VISIBLE_DEVICES\"] = \"6\"\n",
    "\n",
    "data_raw = pd.read_csv('./expData_20240317.csv')\n",
    "data_index = data_raw.columns[52:52+52].append(data_raw.columns[[104, 106, 105]])\n",
    "X = torch.Tensor(np.array(data_raw[data_index]))\n",
    "af = data_raw['af']\n",
    "\n",
    "# Split \n",
    "af_unique = np.unique(af)\n",
    "train_afu, test_afu = train_test_split(af_unique, test_size = .15, random_state = 0) # 0\n",
    "\n",
    "train_ind = data_raw['af'].isin(train_afu)\n",
    "test_ind = data_raw['af'].isin(test_afu)\n",
    "\n",
    "# X = data\n",
    "# X = X - X.min(0)[0]\n",
    "# X = 2 * (X / X.max(0)[0]) - 1\n",
    "noise = torch.Tensor(data_raw['noise'])**2 # \n",
    "y = torch.Tensor(data_raw['Cp'])\n",
    "\n",
    "#train_x, test_x, train_y, test_y, train_noise, test_noise, train_af, test_af = train_test_split(X, y-torch.mean(y), noise, af, test_size = .2, random_state = 74)\n",
    "train_x = X[train_ind]\n",
    "test_x = X[test_ind]\n",
    "train_y = (y-torch.mean(y))[train_ind]\n",
    "test_y = (y-torch.mean(y))[test_ind]\n",
    "train_af = data_raw['af'][train_ind]\n",
    "test_af = data_raw['af'][test_ind]\n",
    "train_noise = noise[train_ind]\n",
    "test_noise = noise[test_ind]\n",
    " \n",
    "if torch.cuda.is_available():\n",
    "    train_x, train_y, test_x, test_y = train_x.cuda(), train_y.cuda(), test_x.cuda(), test_y.cuda()\n",
    "\n",
    "# del X, data_raw"
   ]
  },
  {
   "cell_type": "code",
   "execution_count": 3,
   "metadata": {},
   "outputs": [],
   "source": [
    "data_dim = train_x.size(-1)\n",
    "nn_dims = [1000, 500, 300, 6] # 5[1000, 500, 300, 6]\n",
    "class LargeFeatureExtractor(torch.nn.Sequential):\n",
    "    def __init__(self):\n",
    "        super(LargeFeatureExtractor, self).__init__()\n",
    "        self.add_module('linear1', torch.nn.Linear(data_dim, nn_dims[0]))\n",
    "        self.add_module('relu1', torch.nn.ReLU())\n",
    "        self.add_module('linear2', torch.nn.Linear(nn_dims[0], nn_dims[1]))\n",
    "        self.add_module('relu2', torch.nn.ReLU())\n",
    "        self.add_module('linear3', torch.nn.Linear(nn_dims[1], nn_dims[2]))\n",
    "        self.add_module('relu3', torch.nn.ReLU())\n",
    "        self.add_module('linear4', torch.nn.Linear(nn_dims[2], nn_dims[3]))\n",
    "\n",
    "feature_extractor = LargeFeatureExtractor()"
   ]
  },
  {
   "cell_type": "code",
   "execution_count": 4,
   "metadata": {},
   "outputs": [
    {
     "name": "stderr",
     "output_type": "stream",
     "text": [
      "/home/hlee981/.local/lib/python3.8/site-packages/gpytorch/likelihoods/noise_models.py:148: NumericalWarning: Very small noise values detected. This will likely lead to numerical instabilities. Rounding small noise values up to 0.0001.\n",
      "  warnings.warn(\n"
     ]
    }
   ],
   "source": [
    "class GPRegressionModel(gpytorch.models.ExactGP):\n",
    "        def __init__(self, train_x, train_y, likelihood):\n",
    "            super(GPRegressionModel, self).__init__(train_x, train_y, likelihood)\n",
    "            self.mean_module = gpytorch.means.ConstantMean()\n",
    "            # self.covar_module = gpytorch.kernels.GridInterpolationKernel(\n",
    "            #     gpytorch.kernels.ScaleKernel(gpytorch.kernels.RBFKernel(ard_num_dims=3)),\n",
    "            #     num_dims=3, grid_size=50\n",
    "            # )\n",
    "            self.covar_module = gpytorch.kernels.MaternKernel(nu=1.5,ard_num_dims=nn_dims[3])\n",
    "            # self.covar_module = gpytorch.kernels.RBFKernel(ard_num_dims=nn_dims[3])\n",
    "            self.feature_extractor = feature_extractor\n",
    "\n",
    "            # This module will scale the NN features so that they're nice values\n",
    "            self.scale_to_bounds = gpytorch.utils.grid.ScaleToBounds(-1.0, 1.0)\n",
    "\n",
    "        def forward(self, x):\n",
    "            # We're first putting our data through a deep net (feature extractor)\n",
    "            projected_x = self.feature_extractor(x)\n",
    "            projected_x = self.scale_to_bounds(projected_x)  # Make the NN values \"nice\"\n",
    "\n",
    "            mean_x = self.mean_module(projected_x)\n",
    "            covar_x = self.covar_module(projected_x)\n",
    "            return gpytorch.distributions.MultivariateNormal(mean_x, covar_x)\n",
    "likelihood = gpytorch.likelihoods.FixedNoiseGaussianLikelihood(train_noise)#gpytorch.likelihoods.GaussianLikelihood()\n",
    "model = GPRegressionModel(train_x, train_y, likelihood)\n",
    "\n",
    "if torch.cuda.is_available():\n",
    "    model = model.cuda()\n",
    "    likelihood = likelihood.cuda()"
   ]
  },
  {
   "cell_type": "code",
   "execution_count": 28,
   "metadata": {},
   "outputs": [
    {
     "name": "stdout",
     "output_type": "stream",
     "text": [
      "0.11418364197015762\n"
     ]
    },
    {
     "data": {
      "application/vnd.jupyter.widget-view+json": {
       "model_id": "b425a5cf59ad4206807885677d6ac360",
       "version_major": 2,
       "version_minor": 0
      },
      "text/plain": [
       "  0%|          | 0/10 [00:00<?, ?it/s]"
      ]
     },
     "metadata": {},
     "output_type": "display_data"
    },
    {
     "name": "stdout",
     "output_type": "stream",
     "text": [
      "CPU times: user 22.3 s, sys: 23 µs, total: 22.3 s\n",
      "Wall time: 22.3 s\n"
     ]
    },
    {
     "data": {
      "text/plain": [
       "FixedNoiseGaussianLikelihood(\n",
       "  (noise_covar): FixedGaussianNoise()\n",
       ")"
      ]
     },
     "execution_count": 28,
     "metadata": {},
     "output_type": "execute_result"
    }
   ],
   "source": [
    "training_iterations = 10#*5\n",
    "import tqdm.notebook as tn \n",
    "# Find optimal model hyperparameters\n",
    "model.train()\n",
    "likelihood.train()\n",
    "\n",
    "# Use the adam optimizer\n",
    "optimizer = torch.optim.Adam([\n",
    "    {'params': model.feature_extractor.parameters()},\n",
    "    {'params': model.covar_module.parameters()},\n",
    "    {'params': model.mean_module.parameters()},\n",
    "    {'params': model.likelihood.parameters()},\n",
    "], lr=1e-4) # \n",
    "# \"Loss\" for GPs - the marginal log likelihood\n",
    "mll = gpytorch.mlls.ExactMarginalLogLikelihood(likelihood, model)\n",
    "# best_loss = float('inf')\n",
    "# best_model_state_dict = None\n",
    "print(best_loss)\n",
    "def train(): \n",
    "    global best_loss, best_model_state_dict\n",
    "    iterator = tn.tqdm(range(training_iterations))\n",
    "    for i in iterator:\n",
    "        # Zero backprop gradients\n",
    "        optimizer.zero_grad()\n",
    "        # Get output from model\n",
    "        output = model(train_x)\n",
    "        # Calc loss and backprop derivatives\n",
    "        loss = -mll(output, train_y)\n",
    "        loss.backward()\n",
    "        iterator.set_postfix(loss=loss.item())\n",
    "        optimizer.step()\n",
    "        # Check if current loss is the best so far <- not sure if working\n",
    "        if loss.item() < best_loss:\n",
    "            best_loss = loss.item()\n",
    "            best_model_state_dict = model.state_dict()\n",
    "%time train()\n",
    "\n",
    "if best_model_state_dict is not None:\n",
    "    model.load_state_dict(best_model_state_dict)\n",
    "    \n",
    "model.eval()\n",
    "likelihood.eval()\n"
   ]
  },
  {
   "cell_type": "code",
   "execution_count": 29,
   "metadata": {},
   "outputs": [
    {
     "name": "stderr",
     "output_type": "stream",
     "text": [
      "/home/hlee981/.local/lib/python3.8/site-packages/linear_operator/utils/linear_cg.py:338: NumericalWarning: CG terminated in 1000 iterations with average residual norm 0.4399830400943756 which is larger than the tolerance of 0.01 specified by linear_operator.settings.cg_tolerance. If performance is affected, consider raising the maximum number of CG iterations by running code in a linear_operator.settings.max_cg_iterations(value) context.\n",
      "  warnings.warn(\n"
     ]
    },
    {
     "name": "stdout",
     "output_type": "stream",
     "text": [
      "Train MAE: 0.20050689578056335\n",
      "Test MAE: 0.3261471092700958\n"
     ]
    }
   ],
   "source": [
    "\n",
    "with torch.no_grad(), gpytorch.settings.use_toeplitz(False), gpytorch.settings.fast_pred_var():\n",
    "    preds_test = model(test_x)\n",
    "    preds_train = model(train_x)\n",
    "\n",
    "print('Train MAE: {}'.format(torch.mean(torch.abs(preds_train.mean - train_y))))\n",
    "print('Test MAE: {}'.format(torch.mean(torch.abs(preds_test.mean - test_y))))"
   ]
  },
  {
   "cell_type": "code",
   "execution_count": 30,
   "metadata": {},
   "outputs": [
    {
     "data": {
      "text/plain": [
       "Text(0, 0.5, '$C_p$')"
      ]
     },
     "execution_count": 30,
     "metadata": {},
     "output_type": "execute_result"
    },
    {
     "data": {
      "image/png": "[encoded data removed]",
      "text/plain": [
       "<Figure size 3000x600 with 1 Axes>"
      ]
     },
     "metadata": {},
     "output_type": "display_data"
    }
   ],
   "source": [
    "\n",
    "# plt.plot(preds_train.mean.cpu())\n",
    "# plt.plot(train_y.cpu())\n",
    "\n",
    "plt.figure(figsize=(30,6))\n",
    "preds_std = np.sqrt(np.diag(preds_test.covariance_matrix.cpu()))\n",
    "\n",
    "dispNum = 32\n",
    "import random\n",
    "random.seed(30)\n",
    "# 2 \n",
    "# test_af[dispInds] + \n",
    "\n",
    "# dispInds = random.sample(range(1, test_x.cpu().shape[0]), dispNum)\n",
    "dispInds1 = random.sample(range(0, test_x.cpu().shape[0]), int(dispNum/2))\n",
    "dispInds2 = random.sample(range(0, 65), int(dispNum/2))\n",
    "dispInds = np.concatenate((dispInds1, dispInds2))\n",
    "# caseStr = \n",
    "\n",
    "afStr = np.array(test_af)[dispInds].flatten() # \n",
    "locStr = np.array(np.round(test_x.cpu(),3))[dispInds, -1].astype(str).flatten()\n",
    "AStr = np.array(test_x.cpu())[dispInds, -2].astype(str).flatten()\n",
    "\n",
    "\n",
    "finalStr = afStr + '\\n A=' + AStr + '\\n x/c=' + locStr\n",
    "\n",
    "\n",
    "plt.errorbar(np.arange(len(test_y[dispInds]))-0.2, test_y.cpu()[dispInds], yerr = np.sqrt(test_noise[dispInds]), capsize=2, label='Experimental $C_p \\pm \\sigma$', fmt='.', color = 'b', alpha =0.5)\n",
    "plt.bar(np.arange(len(test_y[dispInds]))-0.2, test_y.cpu()[dispInds], color='dodgerblue', width = 0.4)\n",
    "plt.errorbar(np.arange(len(test_y[dispInds]))+0.2, preds_test.mean.cpu()[dispInds],  yerr = preds_std[dispInds], label='Predicted $C_p \\pm \\sigma$', fmt='r.')\n",
    "plt.bar(np.arange(len(test_y[dispInds]))+0.2, preds_test.mean.cpu()[dispInds], color='crimson', width = 0.4, alpha =0.5, capsize=2)\n",
    "plt.legend()\n",
    "plt.xticks(np.arange(0, dispNum), finalStr, fontsize=8);\n",
    "plt.ylabel('$C_p$')"
   ]
  },
  {
   "cell_type": "code",
   "execution_count": 33,
   "metadata": {},
   "outputs": [
    {
     "name": "stdout",
     "output_type": "stream",
     "text": [
      "['CRA309-A' 'NACA64A010' 'NACA64A410']\n"
     ]
    },
    {
     "ename": "IndexError",
     "evalue": "index 0 is out of bounds for axis 0 with size 0",
     "output_type": "error",
     "traceback": [
      "\u001b[0;31m---------------------------------------------------------------------------\u001b[0m",
      "\u001b[0;31mIndexError\u001b[0m                                Traceback (most recent call last)",
      "Cell \u001b[0;32mIn[33], line 12\u001b[0m\n\u001b[1;32m      9\u001b[0m tempAF \u001b[38;5;241m=\u001b[39m np\u001b[38;5;241m.\u001b[39mwhere(test_af\u001b[38;5;241m.\u001b[39mvalues \u001b[38;5;241m==\u001b[39m targetAF)\n\u001b[1;32m     10\u001b[0m ind_search \u001b[38;5;241m=\u001b[39m np\u001b[38;5;241m.\u001b[39mintersect1d(tempA, tempAF)\n\u001b[0;32m---> 12\u001b[0m sample_airfoil_temp \u001b[38;5;241m=\u001b[39m np\u001b[38;5;241m.\u001b[39mtile(test_x[\u001b[43mind_search\u001b[49m\u001b[43m[\u001b[49m\u001b[38;5;241;43m0\u001b[39;49m\u001b[43m]\u001b[49m,:\u001b[38;5;241m-\u001b[39m\u001b[38;5;241m1\u001b[39m]\u001b[38;5;241m.\u001b[39mcpu(), (\u001b[38;5;241m300\u001b[39m,\u001b[38;5;241m1\u001b[39m))\n\u001b[1;32m     13\u001b[0m desired_xc \u001b[38;5;241m=\u001b[39m np\u001b[38;5;241m.\u001b[39mlinspace(\u001b[38;5;241m-\u001b[39m\u001b[38;5;241m1\u001b[39m, \u001b[38;5;241m1\u001b[39m, \u001b[38;5;241m300\u001b[39m)\u001b[38;5;241m.\u001b[39mreshape((\u001b[38;5;241m300\u001b[39m,\u001b[38;5;241m1\u001b[39m))\n\u001b[1;32m     14\u001b[0m desired_M \u001b[38;5;241m=\u001b[39m np\u001b[38;5;241m.\u001b[39mones((\u001b[38;5;241m300\u001b[39m,\u001b[38;5;241m1\u001b[39m))\u001b[38;5;241m*\u001b[39mplotter[\u001b[38;5;241m2\u001b[39m]\n",
      "\u001b[0;31mIndexError\u001b[0m: index 0 is out of bounds for axis 0 with size 0"
     ]
    },
    {
     "data": {
      "text/plain": [
       "<Figure size 640x480 with 0 Axes>"
      ]
     },
     "metadata": {},
     "output_type": "display_data"
    }
   ],
   "source": [
    "plotter = [(6.0, test_afu[0], 0.6), (7.0, test_afu[0]), (8.0, test_afu[0]), (9.0, test_afu[0]), (4.0, test_afu[1])]\n",
    "print(test_afu)\n",
    "for i in np.arange(0, len(plotter)):#[6,7,8,9]:\n",
    "    plt.figure()\n",
    "    targetA = plotter[i][0]\n",
    "\n",
    "    targetAF = plotter[i][1]\n",
    "    tempA = torch.where(test_x[:, -2].cpu() == targetA)[0].numpy()\n",
    "    tempAF = np.where(test_af.values == targetAF)\n",
    "    ind_search = np.intersect1d(tempA, tempAF)\n",
    "\n",
    "    sample_airfoil_temp = np.tile(test_x[ind_search[0],:-1].cpu(), (300,1))\n",
    "    desired_xc = np.linspace(-1, 1, 300).reshape((300,1))\n",
    "    desired_M = np.ones((300,1))*plotter[2]\n",
    "    sample_airfoil = torch.Tensor(np.hstack((sample_airfoil_temp, desired_xc, desired_M))).cuda()\n",
    "\n",
    "    with torch.no_grad(), gpytorch.settings.use_toeplitz(False), gpytorch.settings.fast_pred_var():\n",
    "        sample_airfoil_pred = model(sample_airfoil)\n",
    "    \n",
    "    sample_airfoil_std = np.sqrt(np.diag(sample_airfoil_pred.covariance_matrix.cpu()))\n",
    "    newDist = torch.distributions.multivariate_normal.MultivariateNormal(sample_airfoil_pred.mean.cpu(), sample_airfoil_pred.covariance_matrix.cpu() + torch.eye(sample_airfoil_pred.covariance_matrix.cpu().shape[0])*1e-5)\n",
    "    \n",
    "    plt.errorbar(np.abs(test_x[ind_search, -1].cpu()), test_y[ind_search].cpu() + torch.mean(y), yerr=2*np.sqrt(noise[ind_search]), fmt='k.', capsize=2, label='Experiment, $C_p \\pm 2\\sigma$')\n",
    "    \n",
    "    # plt.plot(np.abs(sample_airfoil[:, -1].cpu()), sample_airfoil_pred.sample(sample_shape=1) + torch.mean(y))\n",
    "    plt.fill_between(-desired_xc[:150].flatten(), sample_airfoil_pred.mean.cpu()[:150]+ torch.mean(y) + sample_airfoil_std[:150], sample_airfoil_pred.mean.cpu()[:150]+ torch.mean(y) - sample_airfoil_std[:150], color = 'r', alpha = 0.3)\n",
    "    plt.fill_between(desired_xc[150:].flatten(), sample_airfoil_pred.mean.cpu()[150:]+ torch.mean(y) + sample_airfoil_std[150:], sample_airfoil_pred.mean.cpu()[150:]+ torch.mean(y) - sample_airfoil_std[150:], color = 'r', alpha = 0.3)\n",
    "    plt.fill_between(-desired_xc[:150].flatten(), sample_airfoil_pred.mean.cpu()[:150]+ torch.mean(y) + 2*sample_airfoil_std[:150], sample_airfoil_pred.mean.cpu()[:150]+ torch.mean(y) - 2*sample_airfoil_std[:150], color = 'r', alpha = 0.2)\n",
    "    plt.fill_between(desired_xc[150:].flatten(), sample_airfoil_pred.mean.cpu()[150:]+ torch.mean(y) + 2*sample_airfoil_std[150:], sample_airfoil_pred.mean.cpu()[150:]+ torch.mean(y) - 2*sample_airfoil_std[150:], color = 'r', alpha = 0.2)\n",
    "    # for j in np.arange(0, 5):\n",
    "    #     plt.plot(np.abs(sample_airfoil[:, -1].cpu()), newDist.sample()+ torch.mean(y), alpha = 0.2, color = 'r')\n",
    "    plt.plot(np.abs(sample_airfoil[:, -1].cpu()), sample_airfoil_pred.mean.cpu() + torch.mean(y),'r', label='DKL GP, $C_p \\pm 2\\sigma$')\n",
    "    plt.gca().invert_yaxis()\n",
    "    plt.xlabel('x/c')\n",
    "    plt.ylabel('$C_p$')\n",
    "    plt.legend()\n",
    "    plt.title(targetAF +'\\n' + r'$\\alpha$ = ' + str(targetA) + r'$^\\circ,$' + r' $M_\\infty = 0.60$')\n",
    "# test_x"
   ]
  },
  {
   "cell_type": "code",
   "execution_count": null,
   "metadata": {},
   "outputs": [],
   "source": [
    "mu = sample_airfoil_pred.mean.cpu()\n",
    "cov = sample_airfoil_pred.covariance_matrix.cpu()\n",
    "newDist = torch.distributions.multivariate_normal.MultivariateNormal(mu, cov + torch.eye(cov.shape[0])*1e-5)\n",
    "plt.figure()\n",
    "plt.plot(newDist.sample(),'-')\n",
    "\n",
    "plt.figure()\n",
    "plt.imshow(sample_airfoil_pred.covariance_matrix.cpu())#.sample()\n",
    "plt.title('Learned covariance matrix')\n",
    "plt.xlabel('Projected X')\n",
    "plt.ylabel('Projected X\\'')"
   ]
  },
  {
   "cell_type": "code",
   "execution_count": null,
   "metadata": {},
   "outputs": [],
   "source": [
    "# Latent variable plotter 1 - Latent variables vs each other \n",
    "extracted_values = model.feature_extractor(train_x)\n",
    "extracted_values = model.scale_to_bounds(extracted_values)\n",
    "extracted_values = extracted_values.cpu().detach().numpy()\n",
    "\n",
    "N_var = nn_dims[3]\n",
    "f, ax = plt.subplots(N_var, N_var-1, figsize = (18, 18))\n",
    "for i in np.arange(0, N_var):\n",
    "    for j in np.arange(0, i):\n",
    "        for jj in np.arange(0, train_afu.shape[0]):\n",
    "            plot_ind = np.argwhere(train_af.values == train_afu[jj])\n",
    "            ax[i,j].scatter(extracted_values[plot_ind, i], extracted_values[plot_ind, j], marker='.',s=8)\n",
    "        if j == 0:\n",
    "            ax[i,j].set_ylabel('Variable ' + str(i+1), rotation=0, fontsize=12, labelpad = 30)\n",
    "        if i == N_var-1:\n",
    "            ax[i,j].set_xlabel('Variable ' + str(j+1), rotation=0, fontsize=12)\n",
    "        \n",
    "    for k in np.arange(i, N_var-1):\n",
    "        f.delaxes(ax[i,k])"
   ]
  },
  {
   "cell_type": "code",
   "execution_count": null,
   "metadata": {},
   "outputs": [],
   "source": [
    "# Latent variable plotter 1 - Latent variables vs each other \n",
    "extracted_values = model.feature_extractor(train_x)\n",
    "extracted_values = model.scale_to_bounds(extracted_values)\n",
    "extracted_values = extracted_values.cpu().detach().numpy()\n",
    "\n",
    "N_var = nn_dims[3]\n",
    "f, ax = plt.subplots(N_var, N_var-1, figsize = (18, 18))\n",
    "\n",
    "# plt.figure()\n",
    "# plt.scatter(extracted_values[:, 0], extracted_values[:, 1], c=train_y.cpu(), marker='.', s=8)\n",
    "\n",
    "for i in np.arange(0, N_var):\n",
    "    for j in np.arange(0, i):\n",
    "        ff = ax[i,j].scatter(extracted_values[:, i], extracted_values[:, j], c=train_y.cpu(), marker='.', s=8)\n",
    "        \n",
    "        if j == 0:\n",
    "            ax[i,j].set_ylabel('Variable ' + str(i+1), rotation=0, fontsize=12, labelpad = 30)\n",
    "        if i == N_var-1:\n",
    "            ax[i,j].set_xlabel('Variable ' + str(j+1), rotation=0, fontsize=12)\n",
    "        \n",
    "    for k in np.arange(i, N_var-1):\n",
    "        f.delaxes(ax[i,k])\n",
    "        \n",
    "cbar = plt.colorbar(ff)\n",
    "\n"
   ]
  },
  {
   "cell_type": "code",
   "execution_count": null,
   "metadata": {},
   "outputs": [],
   "source": [
    "extracted_values = model.feature_extractor(train_x)\n",
    "extracted_values = model.scale_to_bounds(extracted_values)\n",
    "extracted_values = extracted_values.cpu().detach().numpy()\n",
    "\n",
    "N_var = nn_dims[3]\n",
    "f, ax = plt.subplots(N_var, N_var-1, figsize = (18, 18))\n",
    "for i in np.arange(0, N_var):\n",
    "    for j in np.arange(0, i):\n",
    "        ax[i,j].scatter(extracted_values[:, i], extracted_values[:, j], c=preds_train.mean.cpu(), marker='.', s=8)\n",
    "        \n",
    "        if j == 0:\n",
    "            ax[i,j].set_ylabel('Variable ' + str(i+1), rotation=0, fontsize=12, labelpad = 30)\n",
    "        if i == N_var-1:\n",
    "            ax[i,j].set_xlabel('Variable ' + str(j+1), rotation=0, fontsize=12)\n",
    "        \n",
    "    for k in np.arange(i, N_var-1):\n",
    "        f.delaxes(ax[i,k])"
   ]
  },
  {
   "cell_type": "code",
   "execution_count": null,
   "metadata": {},
   "outputs": [],
   "source": [
    "torch.save(model.state_dict(), 'backup4')"
   ]
  },
  {
   "cell_type": "code",
   "execution_count": null,
   "metadata": {},
   "outputs": [],
   "source": [
    "model.load_state_dict(torch.load('backup4'))"
   ]
  },
  {
   "cell_type": "code",
   "execution_count": null,
   "metadata": {},
   "outputs": [],
   "source": [
    "plotter = [(10.0, train_afu[0]), (9.1, train_afu[-2])]#, (2.0, train_afu[6])]\n",
    "print(train_afu)\n",
    "for i in np.arange(0, len(plotter)):#[6,7,8,9]:\n",
    "    plt.figure()\n",
    "    targetA = plotter[i][0]\n",
    "\n",
    "    targetAF = plotter[i][1]\n",
    "    tempA = torch.where(train_x[:, -2].cpu() == targetA)[0].numpy()\n",
    "    tempAF = np.where(train_af.values == targetAF)\n",
    "    ind_search = np.intersect1d(tempA, tempAF)\n",
    "\n",
    "    sample_airfoil_temp = np.tile(train_x[ind_search[0],:-1].cpu(), (300,1))\n",
    "    desired_xc = np.linspace(-1, 1, 300).reshape((300,1))\n",
    "    sample_airfoil = torch.Tensor(np.hstack((sample_airfoil_temp, desired_xc))).cuda()\n",
    "\n",
    "    with torch.no_grad(), gpytorch.settings.use_toeplitz(False), gpytorch.settings.fast_pred_var():\n",
    "        sample_airfoil_pred = model(sample_airfoil)\n",
    "    \n",
    "    sample_airfoil_std = np.sqrt(np.diag(sample_airfoil_pred.covariance_matrix.cpu()))\n",
    "    newDist = torch.distributions.multivariate_normal.MultivariateNormal(sample_airfoil_pred.mean.cpu(), sample_airfoil_pred.covariance_matrix.cpu() + torch.eye(sample_airfoil_pred.covariance_matrix.cpu().shape[0])*1e-5)\n",
    "    \n",
    "    plt.errorbar(np.abs(train_x[ind_search, -1].cpu()), train_y[ind_search].cpu() + torch.mean(y), yerr=2*np.sqrt(train_noise[ind_search]), fmt='k.', capsize=2, label='Experiment, $C_p \\pm 2\\sigma$')\n",
    "    \n",
    "    # plt.plot(np.abs(sample_airfoil[:, -1].cpu()), sample_airfoil_pred.sample(sample_shape=1) + torch.mean(y))\n",
    "    plt.fill_between(-desired_xc[:150].flatten(), sample_airfoil_pred.mean.cpu()[:150]+ torch.mean(y) + sample_airfoil_std[:150], sample_airfoil_pred.mean.cpu()[:150]+ torch.mean(y) - sample_airfoil_std[:150], color = 'r', alpha = 0.3)\n",
    "    plt.fill_between(desired_xc[150:].flatten(), sample_airfoil_pred.mean.cpu()[150:]+ torch.mean(y) + sample_airfoil_std[150:], sample_airfoil_pred.mean.cpu()[150:]+ torch.mean(y) - sample_airfoil_std[150:], color = 'r', alpha = 0.3)\n",
    "    plt.fill_between(-desired_xc[:150].flatten(), sample_airfoil_pred.mean.cpu()[:150]+ torch.mean(y) + 2*sample_airfoil_std[:150], sample_airfoil_pred.mean.cpu()[:150]+ torch.mean(y) - 2*sample_airfoil_std[:150], color = 'r', alpha = 0.2)\n",
    "    plt.fill_between(desired_xc[150:].flatten(), sample_airfoil_pred.mean.cpu()[150:]+ torch.mean(y) + 2*sample_airfoil_std[150:], sample_airfoil_pred.mean.cpu()[150:]+ torch.mean(y) - 2*sample_airfoil_std[150:], color = 'r', alpha = 0.2)\n",
    "    # for j in np.arange(0, 5):\n",
    "    #     plt.plot(np.abs(sample_airfoil[:, -1].cpu()), newDist.sample()+ torch.mean(y), alpha = 0.2, color = 'r')\n",
    "    plt.plot(np.abs(sample_airfoil[:, -1].cpu()), sample_airfoil_pred.mean.cpu() + torch.mean(y),'r', label='DKL GP, $C_p \\pm 2\\sigma$')\n",
    "    plt.gca().invert_yaxis()\n",
    "    plt.xlabel('x/c')\n",
    "    plt.ylabel('$C_p$')\n",
    "    plt.legend()\n",
    "    plt.title(targetAF +'\\n' + r'$\\alpha$ = ' + str(targetA) + r'$^\\circ,$' + r' $M_\\infty = 0.60$')"
   ]
  },
  {
   "cell_type": "markdown",
   "metadata": {},
   "source": [
    "Quick Cl Cd calculation"
   ]
  },
  {
   "cell_type": "code",
   "execution_count": null,
   "metadata": {},
   "outputs": [],
   "source": [
    "\n",
    "manual_Cl = -np.trapz(y=(sample_airfoil_pred.mean.cpu()+torch.mean(y))[:150], x=desired_xc.flatten()[:150]) + np.trapz(y=(sample_airfoil_pred.mean.cpu()+torch.mean(y))[150:], x=desired_xc.flatten()[150:])\n",
    "print(np.trapz(y=(sample_airfoil_pred.mean.cpu())[:150]+torch.mean(y), x=desired_xc.flatten()[:150]) + np.trapz(y=(sample_airfoil_pred.mean.cpu())[150:]+torch.mean(y), x=desired_xc.flatten()[150:]))\n",
    "# torch.linalg.inv(temp_Kxx) @ train_y.cpu()\n",
    "# print(model.covar_module(train_x))\n",
    "\n",
    "print(sample_airfoil[0,-2])\n",
    "def lazy_Cl_Cd_Cm(x, cp, a):\n",
    "    N = np.trapz(cp[:150], x=np.abs(x.flatten())[:150]) + np.trapz(cp[150:], x=x.flatten()[150:])\n",
    "    Cl = N * np.cos(np.deg2rad(a))\n",
    "    Cd = N * np.sin(np.deg2rad(a))\n",
    "    Cm = np.trapz((np.abs(x.flatten())[:150]-0.25) * cp[:150], x=np.abs(x.flatten())[:150]) + np.trapz((x.flatten()[150:]-0.25) * cp[150:], x=x.flatten()[150:]) # <- double check\n",
    "    return Cl, Cd, Cm  \n",
    "\n",
    "def GP_Cl_Cd_Cm(model, train_x, test_data):\n",
    "    model = model.cpu()\n",
    "    train_x = train_x.cpu()\n",
    "    test_data = test_data.cpu()\n",
    "    \n",
    "    projected_xtrain = model.feature_extractor(train_x)\n",
    "    projected_xtrain = model.scale_to_bounds(projected_xtrain)\n",
    "    projected_xtest = model.feature_extractor(test_data)\n",
    "    projected_xtest = model.scale_to_bounds(projected_xtest)\n",
    "    jitter = 1e-5 * torch.eye(train_x.shape[0])\n",
    "    Kxx = (model.covar_module(projected_xtrain).evaluate().cpu() + train_noise * torch.eye(train_x.shape[0]) + jitter).detach().numpy()\n",
    "    Kxs = model.covar_module(projected_xtrain, projected_xtest).evaluate().cpu().detach().numpy()\n",
    "\n",
    "    KxsT = Kxs.T\n",
    "    temp_ind = np.argwhere(np.array(desired_xc).flatten() < 0.0)\n",
    "    KxsT[temp_ind, :] *= -1\n",
    "    i_Kxs = np.trapz(y=KxsT, x=np.array(desired_xc).flatten(), axis=0).reshape((-1,1)).T\n",
    "    N = i_Kxs @ np.linalg.inv(Kxx) @ train_y.cpu().numpy()\n",
    "    a = test_data[0, -2].numpy()\n",
    "    print(N)\n",
    "    Cl = N * np.cos(np.deg2rad(a))\n",
    "    Cd = N * np.sin(np.deg2rad(a))\n",
    "    # Cm = np.trapz((np.abs(x.flatten())[:150]-0.25) * cp[:150], x=np.abs(x.flatten())[:150]) + np.trapz((x.flatten()[150:]-0.25) * cp[150:], x=x.flatten()[150:]) # <- double check\n",
    "    return Cl, Cd  \n",
    "\n",
    "lazy_Cl_Cd_Cm(desired_xc.flatten(), (sample_airfoil_pred.mean.cpu()+torch.mean(y)).detach().numpy(), a = 9.1)\n",
    "GP_Cl_Cd_Cm(model, train_x, sample_airfoil)"
   ]
  },
  {
   "cell_type": "code",
   "execution_count": null,
   "metadata": {},
   "outputs": [],
   "source": [
    "plt.plot(np.abs(desired_xc.flatten()), asdf + torch.mean(y).numpy())"
   ]
  }
 ],
 "metadata": {
  "kernelspec": {
   "display_name": "base",
   "language": "python",
   "name": "python3"
  },
  "language_info": {
   "codemirror_mode": {
    "name": "ipython",
    "version": 3
   },
   "file_extension": ".py",
   "mimetype": "text/x-python",
   "name": "python",
   "nbconvert_exporter": "python",
   "pygments_lexer": "ipython3",
   "version": "3.8.8"
  }
 },
 "nbformat": 4,
 "nbformat_minor": 2
}
