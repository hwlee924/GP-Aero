{
 "cells": [
  {
   "cell_type": "code",
   "execution_count": null,
   "id": "263de2e0",
   "metadata": {},
   "outputs": [],
   "source": [
    "def Re():\n",
    "    return file.Re();\n",
    "    "
   ]
  },
  {
   "cell_type": "code",
   "execution_count": 5,
   "id": "4765b341",
   "metadata": {},
   "outputs": [
    {
     "ename": "SyntaxError",
     "evalue": "invalid decimal literal (3076626256.py, line 1)",
     "output_type": "error",
     "traceback": [
      "\u001b[1;36m  Cell \u001b[1;32mIn[5], line 1\u001b[1;36m\u001b[0m\n\u001b[1;33m    def makeVec(CRA09-A_A6.0_M0.6_Re_A.csv):\u001b[0m\n\u001b[1;37m                            ^\u001b[0m\n\u001b[1;31mSyntaxError\u001b[0m\u001b[1;31m:\u001b[0m invalid decimal literal\n"
     ]
    }
   ],
   "source": [
    "def makeVec(CRA09-A_A6.0_M0.6_Re_A.csv):\n",
    "    import requests\n",
    "    import pandas as pd\n",
    "    # URL of the CSV file\n",
    "    url = url\n",
    "\n",
    "    # Download the CSV file\n",
    "    response = requests.get(url)\n",
    "    csv_file_path = 'downloaded_file.csv'\n",
    "\n",
    "    # Save the downloaded CSV file\n",
    "    with open(csv_file_path, 'wb') as file:\n",
    "        file.write(response.content)\n",
    "\n",
    "    # Read the CSV file into a DataFrame\n",
    "    df = pd.read_csv(csv_file_path)\n",
    "\n",
    "    # Convert the DataFrame to a vector (list of lists)\n",
    "    vector = df.values.tolist()\n",
    "\n",
    "    # If you prefer a single vector (flattened)\n",
    "    flattened_vector = df.values.flatten().tolist()\n",
    "\n",
    "    # return the vector\n",
    "    return(vector)\n",
    "    # Print the flattened vector\n",
    "    print(flattened_vector)\n"
   ]
  },
  {
   "cell_type": "code",
   "execution_count": 3,
   "id": "0875dc00",
   "metadata": {},
   "outputs": [],
   "source": [
    "def findingcl(url):\n",
    "    data=makeVec(url)\n",
    "    \n",
    "    # Using a trapizoidal reimann sum\n",
    "    deltaxVecL=[]\n",
    "    deltaxVecU=[]\n",
    "    for n in data:\n",
    "        if data(n)>data(n+1):\n",
    "            dataL=[dataL, data(n)]\n",
    "        else:\n",
    "            dataU=[dataU,data(n)]\n",
    "    for n in dataL:\n",
    "        deltaxVecL=[deltaxVec, dataL(1,n+1)-dataL(1,n)]\n",
    "        cpvecL=[cpvec, (dataL(2,n+1)+dataL(2,n))/2]\n",
    "    for n in dataU:\n",
    "        deltaxVecU=[deltaxVec, dataU(1,n+1)-datau(1,n)]\n",
    "        cpvecU=[cpvec, (dataU(2,n+1)+dataU(2,n))/2]    \n",
    "    Cl=deltaxVecL/2*cpvecL-deltaxVecU/2*cpvecU\n",
    "    return Cl\n",
    "        "
   ]
  },
  {
   "cell_type": "code",
   "execution_count": 12,
   "id": "c05358cc",
   "metadata": {},
   "outputs": [],
   "source": [
    "def findingMaxCp(url):\n",
    "    data=makeVec(url)\n",
    "    maxCp=max(data(2,all))\n",
    "    \n"
   ]
  },
  {
   "cell_type": "code",
   "execution_count": 6,
   "id": "b8a07caa",
   "metadata": {},
   "outputs": [],
   "source": [
    "def dydx(n,coords):\n",
    "    data=makevec(coords)\n",
    "    dy=data(1,n)-data(1,n-1)#where n is 1 more than the current x/c value (edge case fixing)\n",
    "    dx=data(2,n)-data(2,n-1)\n",
    "    dydx=dy/dx\n",
    "    return dydx"
   ]
  },
  {
   "cell_type": "code",
   "execution_count": 7,
   "id": "e235e227",
   "metadata": {},
   "outputs": [],
   "source": [
    "def findingCn(url):\n",
    "    cf=.074/Re^.2\n",
    "    Cl=findingcl(url)\n",
    "    for x in data:\n",
    "        integration=integration+2*cf*dydx(x+1)#cf the same for upper and lower side?\n",
    "    Cn=1/c*(Cl+integration) #is the one over c neccessary? \n",
    "    return Cn"
   ]
  },
  {
   "cell_type": "code",
   "execution_count": null,
   "id": "8d7d385c",
   "metadata": {},
   "outputs": [],
   "source": [
    "def findingCa(url):\n",
    "    cf=.074/Re^.2\n",
    "    # Using a trapizoidal reimann sum\n",
    "    deltaxVecL=[]\n",
    "    deltaxVecU=[]\n",
    "    for n in data:\n",
    "        if data(n)>data(n+1):\n",
    "            dataL=[dataL, data(n)]\n",
    "        else:\n",
    "            dataU=[dataU,data(n)]\n",
    "    for n in dataL:\n",
    "        deltaxVecL=[deltaxVec, dataL(1,n+1)-dataL(1,n)]\n",
    "        cpvecL=[cpvec, (dataL(2,n+1)+dataL(2,n))/2]\n",
    "        if n<length(data):\n",
    "            dydxL=dydx(n+1,coords)\n",
    "        else:\n",
    "            dydxL=dydx(n,coords)\n",
    "    for n in dataU:\n",
    "        deltaxVecU=[deltaxVec, dataU(1,n+1)-datau(1,n)]\n",
    "        cpvecU=[cpvec, (dataU(2,n+1)+dataU(2,n))/2] \n",
    "        if n<length(data):\n",
    "            dydxU=dydx(n+1,coords)\n",
    "        else:\n",
    "            dydxU=dydx(n,coords)\n",
    "    Cfint=2*cf#integral with cf inside\n",
    "    Cpint=deltaxVecU/2*cpvecU*dydxU-deltaxVecL/2*cpvecL*dydxL#integral with cp inside\n",
    "    Ca=1/c*(Cpint+Cf)\n",
    "    return Ca"
   ]
  },
  {
   "cell_type": "code",
   "execution_count": 11,
   "id": "2d347971",
   "metadata": {},
   "outputs": [],
   "source": [
    "def findingCmle(url,coords):\n",
    "    # Using a trapizoidal reimann sum\n",
    "    deltaxVecL=[]\n",
    "    deltaxVecU=[]\n",
    "    for n in data:\n",
    "        if data(n)>data(n+1):\n",
    "            dataL=[dataL, data(n)]\n",
    "        else:\n",
    "            dataU=[dataU,data(n)]\n",
    "    for n in dataL:\n",
    "        deltaxVecL=[deltaxVec, dataL(1,n+1)-dataL(1,n)]\n",
    "        cpvecL=[cpvec, (dataL(2,n+1)+dataL(2,n))/2]\n",
    "    for n in dataU:\n",
    "        deltaxVecU=[deltaxVec, dataU(1,n+1)-datau(1,n)]\n",
    "        cpvecU=[cpvec, (dataU(2,n+1)+dataU(2,n))/2]    \n",
    "    Cpint=deltaxVecL/2*cpvecL*dataL(1,all)-deltaxVecU/2*cpvecU*dataU(1,all)\n",
    "    Cfint= 0\n",
    "    for x in data:\n",
    "        Cfint=Cfint+2*cf*dydx(x+1)*data(x)#cf the same for upper and lower side?\n",
    "    yuint=0\n",
    "    for x in dataU"
   ]
  },
  {
   "cell_type": "code",
   "execution_count": null,
   "id": "190da816",
   "metadata": {},
   "outputs": [],
   "source": [
    "def Mcr(url,coords)"
   ]
  }
 ],
 "metadata": {
  "kernelspec": {
   "display_name": "Python 3 (ipykernel)",
   "language": "python",
   "name": "python3"
  },
  "language_info": {
   "codemirror_mode": {
    "name": "ipython",
    "version": 3
   },
   "file_extension": ".py",
   "mimetype": "text/x-python",
   "name": "python",
   "nbconvert_exporter": "python",
   "pygments_lexer": "ipython3",
   "version": "3.11.4"
  }
 },
 "nbformat": 4,
 "nbformat_minor": 5
}
